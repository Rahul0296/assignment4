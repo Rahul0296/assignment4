{
 "cells": [
  {
   "cell_type": "code",
   "execution_count": 1,
   "id": "ab277cf3-ad3d-48ff-a208-dc87e599098c",
   "metadata": {},
   "outputs": [
    {
     "name": "stdout",
     "output_type": "stream",
     "text": [
      "[1, 3, 5, 7, 9, 11, 13, 15, 17, 19, 21, 23, 25]\n"
     ]
    }
   ],
   "source": [
    "#1.Which keyword is used to create a function? Create a function to return a list of odd numbers in the  range of 1 to 25. \n",
    "\n",
    "\"\"\"The keyword used to create a function in Python is \"def\"\"\"\n",
    "def odd_numbers(n):\n",
    "    odd_list = []\n",
    "    for i in range(1, n+1):\n",
    "        if i % 2 != 0:\n",
    "            odd_list.append(i)\n",
    "    return odd_list\n",
    "\n",
    "print(odd_numbers(25))\n"
   ]
  },
  {
   "cell_type": "code",
   "execution_count": 2,
   "id": "6a4bd5cc-37d2-4083-8251-3d6c42bceebc",
   "metadata": {},
   "outputs": [
    {
     "name": "stdout",
     "output_type": "stream",
     "text": [
      "Arguments: (1, 2, 3, 4, 5)\n"
     ]
    }
   ],
   "source": [
    " #2. Why *args and **kwargs is used in some functions? Create a function each for *args and **kwargs  to demonstrate their use. \n",
    "\"\"\"args and **kwargs are used in functions to allow them to take a variable number of arguments.\n",
    "\n",
    "* args is used to send a non-keyworded variable length argument list to the function. It is used when the number of arguments is unknown beforehand.\n",
    "* kwargs allows you to pass keyworded variable length of arguments to a function. You should use **kwargs if you want to handle named arguments in a function.\n",
    "Here is an example demonstrating the use of *args:\"\"\"\n",
    "\n",
    "def print_args(*args):\n",
    "    print(\"Arguments:\", args)\n",
    "\n",
    "print_args(1, 2, 3, 4, 5)\n",
    "\n",
    "    "
   ]
  },
  {
   "cell_type": "code",
   "execution_count": 3,
   "id": "76b03000-9c87-47fd-a3a2-5b0cbade174d",
   "metadata": {},
   "outputs": [
    {
     "name": "stdout",
     "output_type": "stream",
     "text": [
      "Keyword arguments: {'a': 1, 'b': 2, 'c': 3, 'd': 4, 'e': 5}\n"
     ]
    }
   ],
   "source": [
    "\"\"\"And here is an example demonstrating the use of **kwargs:\"\"\"\n",
    "\n",
    "def print_kwargs(**kwargs):\n",
    "    print(\"Keyword arguments:\", kwargs)\n",
    "\n",
    "print_kwargs(a=1, b=2, c=3, d=4, e=5)\n"
   ]
  },
  {
   "cell_type": "code",
   "execution_count": 4,
   "id": "c071e10f-6db0-4906-9291-fe1a28433a5b",
   "metadata": {},
   "outputs": [
    {
     "name": "stdout",
     "output_type": "stream",
     "text": [
      "2\n",
      "4\n",
      "6\n",
      "8\n",
      "10\n"
     ]
    }
   ],
   "source": [
    "#3.What is an iterator in python? Name the method used to initialise the iterator object and the method  used for iteration. Use these methods to print the first five elements of the given list [2, 4, 6, 8, 10, 12, 14,  16, 18, 20]. \n",
    "\n",
    "\"\"\"An iterator in Python is an object that can be iterated (looped) upon. Iterators are used to represent a stream of data that can be processed one item at a time.\n",
    "\n",
    "The method used to initialize the iterator object is the iter() method, and the method used for iteration is the next() method.\n",
    "\n",
    "Here is an example of using these methods to print the first five elements of a given list:\"\"\"\n",
    "\n",
    "list = [2, 4, 6, 8, 10, 12, 14, 16, 18, 20]\n",
    "\n",
    "iterator_object = iter(list)\n",
    "\n",
    "for i in range(5):\n",
    "    print(next(iterator_object))\n",
    "\n"
   ]
  },
  {
   "cell_type": "code",
   "execution_count": 6,
   "id": "f7dc82d6-0f61-4f94-9d44-56655367ea73",
   "metadata": {},
   "outputs": [
    {
     "name": "stdout",
     "output_type": "stream",
     "text": [
      "2\n",
      "4\n",
      "6\n",
      "8\n",
      "10\n"
     ]
    }
   ],
   "source": [
    "#4.What is a generator function in python? Why yield keyword is used? Give an example of a generator  function.\n",
    "\n",
    "\"\"\"A generator function is a special type of function in Python that can be used to return a generator iterator. It is defined like a normal function, but instead of returning a value using the return statement, a generator function uses the yield keyword.\n",
    "\n",
    "The yield keyword is used because it allows the generator function to return a value and then pause execution, saving the state of the function. The next time the generator is called, execution resumes where it left off, and the generator continues to generate values until it reaches a return statement or the end of the function.\n",
    "\n",
    "Here is an example of a generator function that generates the first n even numbers:\"\"\"\n",
    "\n",
    "def even_numbers(n):\n",
    "    for i in range(2, 2 * n + 2, 2):\n",
    "        yield i\n",
    "\n",
    "for i in even_numbers(5):\n",
    "    print(i)"
   ]
  },
  {
   "cell_type": "code",
   "execution_count": 7,
   "id": "70434f69-0ea9-4a08-b284-a078766a82a3",
   "metadata": {},
   "outputs": [
    {
     "name": "stdout",
     "output_type": "stream",
     "text": [
      "2\n",
      "3\n",
      "5\n",
      "7\n",
      "11\n",
      "13\n",
      "17\n",
      "19\n",
      "23\n",
      "29\n",
      "31\n",
      "37\n",
      "41\n",
      "43\n",
      "47\n",
      "53\n",
      "59\n",
      "61\n",
      "67\n",
      "71\n"
     ]
    }
   ],
   "source": [
    "#5.Create a generator function for prime numbers less than 1000. Use the next() method to print the  first 20 prime numbers.\n",
    "\n",
    "def prime_numbers(limit):\n",
    "    for num in range(2, limit):\n",
    "        for i in range(2, num):\n",
    "            if num % i == 0:\n",
    "                break\n",
    "        else:\n",
    "            yield num\n",
    "\n",
    "generator = prime_numbers(1000)\n",
    "\n",
    "for i in range(20):\n",
    "    print(next(generator))\n"
   ]
  },
  {
   "cell_type": "code",
   "execution_count": 8,
   "id": "506108d7-1ffb-4fd4-aeb4-ce3ef2f243c0",
   "metadata": {},
   "outputs": [
    {
     "name": "stdout",
     "output_type": "stream",
     "text": [
      "0\n",
      "1\n",
      "1\n",
      "2\n",
      "3\n",
      "5\n",
      "8\n",
      "13\n",
      "21\n",
      "34\n"
     ]
    }
   ],
   "source": [
    "#6. Write a python program to print the first 10 Fibonacci numbers using a while loop. \n",
    "\n",
    "def fibonacci_sequence(n):\n",
    "    a, b = 0, 1\n",
    "    count = 0\n",
    "    while count < n:\n",
    "        yield a\n",
    "        a, b = b, a + b\n",
    "        count += 1\n",
    "\n",
    "for num in fibonacci_sequence(10):\n",
    "    print(num)\n"
   ]
  },
  {
   "cell_type": "code",
   "execution_count": 9,
   "id": "30d29623-0aab-47fa-a6e4-d06df1ec4615",
   "metadata": {},
   "outputs": [
    {
     "name": "stdout",
     "output_type": "stream",
     "text": [
      "['p', 'w', 's', 'k', 'i', 'l', 'l', 's']\n"
     ]
    }
   ],
   "source": [
    "#7. Write a List Comprehension to iterate through the given string: ‘pwskills’. \n",
    "# Expected output: ['p', 'w', 's', 'k', 'i', 'l', 'l', 's']  \n",
    "\n",
    "string = 'pwskills'\n",
    "result = [char for char in string]\n",
    "\n",
    "print(result)\n",
    "\n"
   ]
  },
  {
   "cell_type": "code",
   "execution_count": 10,
   "id": "35537eb9-64dd-4707-a526-4580c7f21000",
   "metadata": {},
   "outputs": [
    {
     "name": "stdout",
     "output_type": "stream",
     "text": [
      "121 is a Palindrome\n"
     ]
    }
   ],
   "source": [
    "#8.  Write a python program to check whether a given number is Palindrome or not using a while loop. \n",
    "\n",
    "def is_palindrome(number):\n",
    "    original = number\n",
    "    reverse = 0\n",
    "    while number > 0:\n",
    "        last_digit = number % 10\n",
    "        reverse = (reverse * 10) + last_digit\n",
    "        number = number // 10\n",
    "    return original == reverse\n",
    "\n",
    "number = 121\n",
    "result = is_palindrome(number)\n",
    "\n",
    "if result:\n",
    "    print(f'{number} is a Palindrome')\n",
    "else:\n",
    "    print(f'{number} is not a Palindrome')\n"
   ]
  },
  {
   "cell_type": "code",
   "execution_count": 11,
   "id": "8e6f8e9e-24a8-4393-9899-2ed9d0c3ecd5",
   "metadata": {},
   "outputs": [
    {
     "name": "stdout",
     "output_type": "stream",
     "text": [
      "[1, 3, 5, 7, 9, 11, 13, 15, 17, 19, 21, 23, 25, 27, 29, 31, 33, 35, 37, 39, 41, 43, 45, 47, 49, 51, 53, 55, 57, 59, 61, 63, 65, 67, 69, 71, 73, 75, 77, 79, 81, 83, 85, 87, 89, 91, 93, 95, 97, 99]\n"
     ]
    }
   ],
   "source": [
    "#9.Write a code to print odd numbers from 1 to 100 using list comprehension. \n",
    "#Note: Use a list comprehension to create a list from 1 to 100 and use another List comprehension to filter  out odd numbers. \n",
    "\n",
    "numbers = [x for x in range(1, 101)]\n",
    "odd_numbers = [x for x in numbers if x % 2 != 0]\n",
    "\n",
    "print(odd_numbers)\n"
   ]
  },
  {
   "cell_type": "code",
   "execution_count": null,
   "id": "d364a498-4940-4f0e-81fb-6109939beee4",
   "metadata": {},
   "outputs": [],
   "source": []
  }
 ],
 "metadata": {
  "kernelspec": {
   "display_name": "Python 3 (ipykernel)",
   "language": "python",
   "name": "python3"
  },
  "language_info": {
   "codemirror_mode": {
    "name": "ipython",
    "version": 3
   },
   "file_extension": ".py",
   "mimetype": "text/x-python",
   "name": "python",
   "nbconvert_exporter": "python",
   "pygments_lexer": "ipython3",
   "version": "3.10.8"
  }
 },
 "nbformat": 4,
 "nbformat_minor": 5
}
